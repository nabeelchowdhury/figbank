{
 "cells": [
  {
   "cell_type": "code",
   "execution_count": 10,
   "metadata": {},
   "outputs": [],
   "source": [
    "import random as rd\n",
    "def check_bal():\n",
    "\n",
    "    current_balance = rd.randint(0,999999)\n",
    "    return f\"Your current Account Balance is £{current_balance}\""
   ]
  },
  {
   "cell_type": "code",
   "execution_count": 11,
   "metadata": {},
   "outputs": [
    {
     "name": "stdout",
     "output_type": "stream",
     "text": [
      "Welcome to FigBank \n",
      " Please enter your details below :\n"
     ]
    },
    {
     "name": "stdout",
     "output_type": "stream",
     "text": [
      "Email accepted\n",
      "Passcode accepted\n"
     ]
    }
   ],
   "source": [
    "print(\"Welcome to FigBank \\n Please enter your details below :\")\n",
    "while True:\n",
    "    user_email = input(\"Please enter your email address : \")\n",
    "\n",
    "    if '@' in user_email and '.' in user_email:\n",
    "        print(\"Email accepted\")\n",
    "\n",
    "    else:\n",
    "        print(\"Invalid email, Please try again : \")\n",
    "        continue\n",
    "\n",
    "    user_pin = input(\"Please enter your security Passcode\")\n",
    "\n",
    "    if len(user_pin) ==4 and user_pin.isdigit():\n",
    "        print(\"Passcode accepted\")\n",
    "        break\n",
    "    else:\n",
    "        print(\"Invalid Passcode, Please try again\")  #add failure after 3 tries? , forgotton passcode?\n",
    "#try except for secuirty   questions"
   ]
  },
  {
   "cell_type": "code",
   "execution_count": 12,
   "metadata": {},
   "outputs": [
    {
     "name": "stdout",
     "output_type": "stream",
     "text": [
      "Select service Below : \n",
      "\n",
      "1. Check Current Account Balance\n",
      "2. To make a transfer\n",
      "3. To setup a direct debit\n",
      "4. Contact Customer Service\n",
      "\n"
     ]
    },
    {
     "ename": "AttributeError",
     "evalue": "module 'random' has no attribute 'randfloat'",
     "output_type": "error",
     "traceback": [
      "\u001b[1;31m---------------------------------------------------------------------------\u001b[0m",
      "\u001b[1;31mAttributeError\u001b[0m                            Traceback (most recent call last)",
      "\u001b[1;32mc:\\Users\\Chowdhury\\Downloads\\bootcamp\\FigBank.ipynb Cell 3\u001b[0m line \u001b[0;36m1\n\u001b[0;32m     <a href='vscode-notebook-cell:/c%3A/Users/Chowdhury/Downloads/bootcamp/FigBank.ipynb#W2sZmlsZQ%3D%3D?line=12'>13</a>\u001b[0m confirm_pin \u001b[39m=\u001b[39m \u001b[39minput\u001b[39m(\u001b[39m\"\u001b[39m\u001b[39mPlease enter your pin\u001b[39m\u001b[39m\"\u001b[39m)\n\u001b[0;32m     <a href='vscode-notebook-cell:/c%3A/Users/Chowdhury/Downloads/bootcamp/FigBank.ipynb#W2sZmlsZQ%3D%3D?line=13'>14</a>\u001b[0m \u001b[39mif\u001b[39;00m confirm_pin \u001b[39m==\u001b[39m user_pin:\n\u001b[1;32m---> <a href='vscode-notebook-cell:/c%3A/Users/Chowdhury/Downloads/bootcamp/FigBank.ipynb#W2sZmlsZQ%3D%3D?line=14'>15</a>\u001b[0m     balance \u001b[39m=\u001b[39m check_bal()\n\u001b[0;32m     <a href='vscode-notebook-cell:/c%3A/Users/Chowdhury/Downloads/bootcamp/FigBank.ipynb#W2sZmlsZQ%3D%3D?line=15'>16</a>\u001b[0m     \u001b[39mprint\u001b[39m(balance)\n\u001b[0;32m     <a href='vscode-notebook-cell:/c%3A/Users/Chowdhury/Downloads/bootcamp/FigBank.ipynb#W2sZmlsZQ%3D%3D?line=17'>18</a>\u001b[0m \u001b[39melse\u001b[39;00m:\n",
      "\u001b[1;32mc:\\Users\\Chowdhury\\Downloads\\bootcamp\\FigBank.ipynb Cell 3\u001b[0m line \u001b[0;36m4\n\u001b[0;32m      <a href='vscode-notebook-cell:/c%3A/Users/Chowdhury/Downloads/bootcamp/FigBank.ipynb#W2sZmlsZQ%3D%3D?line=1'>2</a>\u001b[0m \u001b[39mdef\u001b[39;00m \u001b[39mcheck_bal\u001b[39m():\n\u001b[1;32m----> <a href='vscode-notebook-cell:/c%3A/Users/Chowdhury/Downloads/bootcamp/FigBank.ipynb#W2sZmlsZQ%3D%3D?line=3'>4</a>\u001b[0m     current_balance \u001b[39m=\u001b[39m rd\u001b[39m.\u001b[39;49mrandfloat(\u001b[39m0\u001b[39m,\u001b[39m999999\u001b[39m)\n\u001b[0;32m      <a href='vscode-notebook-cell:/c%3A/Users/Chowdhury/Downloads/bootcamp/FigBank.ipynb#W2sZmlsZQ%3D%3D?line=4'>5</a>\u001b[0m     \u001b[39mreturn\u001b[39;00m \u001b[39mf\u001b[39m\u001b[39m\"\u001b[39m\u001b[39mYour current Account Balance is £\u001b[39m\u001b[39m{\u001b[39;00mcurrent_balance\u001b[39m}\u001b[39;00m\u001b[39m\"\u001b[39m\n",
      "\u001b[1;31mAttributeError\u001b[0m: module 'random' has no attribute 'randfloat'"
     ]
    }
   ],
   "source": [
    "print(\"Select service Below : \")\n",
    "\n",
    "print(\"\"\"\n",
    "1. Check Current Account Balance\n",
    "2. To make a transfer\n",
    "3. To setup a direct debit\n",
    "4. Contact Customer Service\n",
    "\"\"\")\n",
    "\n",
    "choice = input(\"Select service by typing the number : \")\n",
    "\n",
    "if choice == '1' :\n",
    "    confirm_pin = input(\"Please enter your pin\")\n",
    "    if confirm_pin == user_pin:\n",
    "        balance = check_bal()\n",
    "        print(balance)\n",
    "\n",
    "    else:\n",
    "        print(\"Incorrect PIN\")"
   ]
  }
 ],
 "metadata": {
  "kernelspec": {
   "display_name": "Python 3",
   "language": "python",
   "name": "python3"
  },
  "language_info": {
   "codemirror_mode": {
    "name": "ipython",
    "version": 3
   },
   "file_extension": ".py",
   "mimetype": "text/x-python",
   "name": "python",
   "nbconvert_exporter": "python",
   "pygments_lexer": "ipython3",
   "version": "3.9.13"
  }
 },
 "nbformat": 4,
 "nbformat_minor": 2
}
